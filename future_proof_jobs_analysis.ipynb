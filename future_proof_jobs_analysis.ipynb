{
 "cells": [
  {
   "cell_type": "markdown",
   "metadata": {},
   "source": [
    "# Future-Proof Careers: Remote, High-Growth, and High-Paying\n",
    "\n",
    "This notebook explores high-growth, remote-friendly, and high-paying career fields using data from:\n",
    "- U.S. Bureau of Labor Statistics (BLS)\n",
    "- RemoteOK\n",
    "- Levels.fyi\n",
    "- Kaggle job postings\n",
    "\n",
    "### Project Goals:\n",
    "- Identify 10–20 top-growing careers\n",
    "- Determine remote-friendliness\n",
    "- Compare entry vs. senior salary\n",
    "- Highlight in-demand skills and technologies"
   ]
  },
  {
   "cell_type": "code",
   "execution_count": null,
   "metadata": {},
   "outputs": [],
   "source": [
    "# 1. Import Libraries\n",
    "import pandas as pd\n",
    "import numpy as np\n",
    "import matplotlib.pyplot as plt\n",
    "import seaborn as sns\n",
    "\n",
    "# Optional for interactive visuals\n",
    "import plotly.express as px\n",
    "# import streamlit as st  # Uncomment if using Streamlit"
   ]
  },
  {
   "cell_type": "code",
   "execution_count": null,
   "metadata": {},
   "outputs": [],
   "source": [
    "# 2. Load Datasets (placeholders for now)\n",
    "# Replace with actual paths or upload real files later\n",
    "df_bls = pd.read_csv('data/bls_job_outlook.csv')\n",
    "df_remote = pd.read_csv('data/remote_jobs.csv')\n",
    "df_salary = pd.read_csv('data/levels_fyi_salaries.csv')\n",
    "df_skills = pd.read_csv('data/job_skills.csv')"
   ]
  },
  {
   "cell_type": "code",
   "execution_count": null,
   "metadata": {},
   "outputs": [],
   "source": [
    "# 3. Data Cleaning Example (for BLS)\n",
    "df_bls.columns = df_bls.columns.str.strip().str.lower().str.replace(' ', '_')\n",
    "df_bls['occupation'] = df_bls['occupation'].str.lower().str.strip()\n",
    "df_bls.dropna(subset=['median_annual_wage', 'projected_growth_rate'], inplace=True)"
   ]
  },
  {
   "cell_type": "code",
   "execution_count": null,
   "metadata": {},
   "outputs": [],
   "source": [
    "# 4. Visualize: Top 10 Fastest Growing Jobs\n",
    "bls_sorted = df_bls.sort_values(by='projected_growth_rate', ascending=False).head(10)\n",
    "plt.figure(figsize=(10, 6))\n",
    "sns.barplot(data=bls_sorted, x='projected_growth_rate', y='occupation')\n",
    "plt.title('Top 10 Fastest Growing Careers (2024–2034)')\n",
    "plt.xlabel('Projected Growth Rate (%)')\n",
    "plt.ylabel('Job Title')\n",
    "plt.tight_layout()\n",
    "plt.show()"
   ]
  }
 ],
 "metadata": {
  "kernelspec": {
   "display_name": "Python 3",
   "language": "python",
   "name": "python3"
  },
  "language_info": {
   "name": "python",
   "version": ""
  }
 },
 "nbformat": 4,
 "nbformat_minor": 5
}
